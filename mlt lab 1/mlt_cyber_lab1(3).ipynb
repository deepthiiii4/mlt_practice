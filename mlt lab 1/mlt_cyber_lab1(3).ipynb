{
  "cells": [
    {
      "cell_type": "code",
      "execution_count": null,
      "metadata": {
        "id": "hMrVROy78xZT"
      },
      "outputs": [],
      "source": [
        "# Import all the packages in a new code block before its use\n",
        "## Type your registration number and Name\n",
        "Registration_Number = \"22011103110\"\n",
        "Name = \"Deepthi I\""
      ]
    },
    {
      "cell_type": "markdown",
      "metadata": {
        "id": "qtzFnRyxyiFg"
      },
      "source": [
        "# LAB 1 (26-12-2023)\n",
        "\n",
        "The following topics will be tested/reviewed in this notebook.\n",
        "- Basic I/O in python\n",
        "- Functions and Classes in Python\n",
        "- Descision statements and Loops\n",
        "- Numpy and Matplotlib\n",
        "- pandas\n",
        "- scikit-learn\n"
      ]
    },
    {
      "cell_type": "markdown",
      "metadata": {
        "id": "Q5qa8qYa0JnN"
      },
      "source": [
        "## Basic I/O in python\n",
        "Write python program for the following:\n",
        "- print the result of $\\sqrt{b^2-4ac}$\n",
        "- accept a string and print the reverse of the string"
      ]
    },
    {
      "cell_type": "code",
      "execution_count": 6,
      "metadata": {
        "id": "6TXgRv65HPPd"
      },
      "outputs": [
        {
          "name": "stdout",
          "output_type": "stream",
          "text": [
            "root exits:  29.866369046136157\n"
          ]
        }
      ],
      "source": [
        "\n",
        "import math  \n",
        "a = float(input('Enter a: '))  \n",
        "b = float(input('Enter b: '))  \n",
        "c = float(input('Enter c: '))  \n",
        "s = (b**2) - (4*a*c)\n",
        "d = math.sqrt(s)\n",
        "\n",
        "if(d>0):\n",
        "    print(\"root exits: \" , d)\n",
        "if(d==0):\n",
        "    print(\"equal roots: \", d)\n",
        "if(d<0):\n",
        "    print(\"root doesnt exists\")  \n",
        "\n"
      ]
    },
    {
      "cell_type": "code",
      "execution_count": 7,
      "metadata": {},
      "outputs": [
        {
          "name": "stdout",
          "output_type": "stream",
          "text": [
            "olleg\n"
          ]
        }
      ],
      "source": [
        "str = input(\"enter a string: \" )\n",
        "ans = str[::-1]\n",
        "print(ans)"
      ]
    },
    {
      "cell_type": "markdown",
      "metadata": {
        "id": "caXS1_7O4LwU"
      },
      "source": [
        "## Decision statements and Loops\n",
        "Write python program for the following:\n",
        "- Given a list, check how many times an element is present in the list\n",
        "- Given two numbers a, b and b>a, find how many even numbers, odd numbers and prime numbers are there."
      ]
    },
    {
      "cell_type": "code",
      "execution_count": 11,
      "metadata": {
        "id": "ahtYg_-QHJbh"
      },
      "outputs": [
        {
          "name": "stdout",
          "output_type": "stream",
          "text": [
            "3 4\n",
            "5 2\n",
            "2 1\n",
            "4 2\n",
            "5 2\n",
            "4 2\n",
            "3 4\n",
            "3 4\n",
            "3 4\n"
          ]
        }
      ],
      "source": [
        "lst = [3,5,2,4,5,4,3,3,3]\n",
        "for i in lst:\n",
        "    x = lst.count(i)\n",
        "    print(i,x)"
      ]
    },
    {
      "cell_type": "code",
      "execution_count": 15,
      "metadata": {},
      "outputs": [
        {
          "name": "stdout",
          "output_type": "stream",
          "text": [
            "50\n",
            "50\n",
            "413\n"
          ]
        }
      ],
      "source": [
        "a=100\n",
        "b=200\n",
        "even = 0\n",
        "odd =0\n",
        "prime =0\n",
        " \n",
        "for i in range (a, b):\n",
        "    if (i%2 == 0):\n",
        "        even = even +1\n",
        "\n",
        "    if(i>1):\n",
        "        for num in range(2,i):\n",
        "            if(i%num == 0):\n",
        "              prime = prime + 1\n",
        "    if(i%2 != 0):\n",
        "        odd = odd +1\n",
        "    \n",
        "\n",
        "print(even)\n",
        "print(odd)\n",
        "print(prime)\n"
      ]
    },
    {
      "cell_type": "markdown",
      "metadata": {
        "id": "6tg59s2f4Gd9"
      },
      "source": [
        "## Functions and Classes\n",
        "\n",
        "Write python functions for the following:\n",
        "- accept a string (a row of comma separated values) and returns a list whose elemetns are the values from the string\n",
        "- given a list of names return the total characters in that list\n",
        "\n",
        "Write class for the following:\n",
        "- Complex number arithmetic (+,*) Try operator overloading\n"
      ]
    },
    {
      "cell_type": "code",
      "execution_count": 4,
      "metadata": {
        "id": "Sx3dZOLCDIi0"
      },
      "outputs": [
        {
          "name": "stdout",
          "output_type": "stream",
          "text": [
            "result:  ['d', 'g', 'g', 'h', 'y']\n"
          ]
        }
      ],
      "source": [
        "def stringtolist(input_str):\n",
        "    return input_str.split(',')\n",
        "\n",
        "\n",
        "\n",
        "user_input = input(\"enter a string: \")\n",
        "result_list = stringtolist(user_input)\n",
        "print(\"result: \" , result_list)"
      ]
    },
    {
      "cell_type": "code",
      "execution_count": 5,
      "metadata": {},
      "outputs": [
        {
          "name": "stdout",
          "output_type": "stream",
          "text": [
            "total characters in the list:  24\n"
          ]
        }
      ],
      "source": [
        "def total_characters(names_list):\n",
        "    return sum(len(name) for name in names_list)\n",
        "\n",
        "names = input(\"enter the list of names: \")\n",
        "result = total_characters(names)\n",
        "print(\"total characters in the list: \", result)"
      ]
    },
    {
      "cell_type": "code",
      "execution_count": 11,
      "metadata": {
        "id": "leBaN3i4DI2h"
      },
      "outputs": [
        {
          "name": "stdout",
          "output_type": "stream",
          "text": [
            "sum:  3 + 2i\n",
            "product:  5 + 1i\n"
          ]
        }
      ],
      "source": [
        "class complexnumber:\n",
        "    def __init__(self , real,imag):\n",
        "        self.real = real\n",
        "        self.imag = imag\n",
        "    \n",
        "    def __add__(self,other):\n",
        "        return(complexnumber(self.real + other.real, self.imag + other.imag))\n",
        "    \n",
        "\n",
        "    def __mul__(self,other):\n",
        "        real_part = self.real * other.real - self.imag* other.imag\n",
        "        imag_part = self.real * other.imag +self.imag * other.real\n",
        "        return complexnumber(real_part ,imag_part)\n",
        "\n",
        "\n",
        "    def __str__(self):\n",
        "        return f\"{self.real} + {self.imag}i\"\n",
        "    \n",
        "\n",
        "c1 = complexnumber(2,3)\n",
        "c2 = complexnumber(1,-1)\n",
        "sum_result = c1+c2 \n",
        "product_result= c1*c2 \n",
        "print(\"sum: \", sum_result)\n",
        "print(\"product: \", product_result)"
      ]
    },
    {
      "cell_type": "markdown",
      "metadata": {
        "id": "P9mUS1c_4Woz"
      },
      "source": [
        "## Numpy and Matplotlib\n",
        "\n",
        "### TODO\n",
        "**Numpy** is a python package that has well-optimised numerical algorithms like matrices, arrays etc.,\n",
        "- Create a list of numbers and convert it into numpy array\n",
        "- Create a 10x10 matrix (D) where each element of the matrix is given by the formula\n",
        "$$D_{ij}=i+j+1-ij$$\n",
        "- Compute the maximum value of the element in the matrix\n",
        "- go through a [short tutorial on numpy](https://numpy.org/devdocs/user/quickstart.html)\n",
        "\n",
        "**Matplotlib** is package that specialises in producing scientific grade plots.\n",
        "### TODO\n",
        "- Create two random arrays y,z using numpy\n",
        "- create an array x equal to the size of y the elements of the array x goes from 1 to size(y)\n",
        "- Plot (x,y) and (x,z)\n",
        "- Try different features"
      ]
    },
    {
      "cell_type": "code",
      "execution_count": 12,
      "metadata": {
        "id": "G-mwLmlMBsxI"
      },
      "outputs": [
        {
          "name": "stdout",
          "output_type": "stream",
          "text": [
            "list:  [1, 2, 3, 4, 5, 6]\n",
            "numpy array:  [1 2 3 4 5 6]\n"
          ]
        }
      ],
      "source": [
        "import numpy as np\n",
        "numbers = [1,2,3,4,5,6]\n",
        "numpyarray = np.array(numbers)\n",
        "print(\"list: \" , numbers)\n",
        "print(\"numpy array: \" , numpyarray)"
      ]
    },
    {
      "cell_type": "code",
      "execution_count": 18,
      "metadata": {},
      "outputs": [
        {
          "name": "stdout",
          "output_type": "stream",
          "text": [
            "matrix d: \n",
            "[[  1   2   3   4   5   6   7   8   9  10]\n",
            " [  2   2   2   2   2   2   2   2   2   2]\n",
            " [  3   2   1   0  -1  -2  -3  -4  -5  -6]\n",
            " [  4   2   0  -2  -4  -6  -8 -10 -12 -14]\n",
            " [  5   2  -1  -4  -7 -10 -13 -16 -19 -22]\n",
            " [  6   2  -2  -6 -10 -14 -18 -22 -26 -30]\n",
            " [  7   2  -3  -8 -13 -18 -23 -28 -33 -38]\n",
            " [  8   2  -4 -10 -16 -22 -28 -34 -40 -46]\n",
            " [  9   2  -5 -12 -19 -26 -33 -40 -47 -54]\n",
            " [ 10   2  -6 -14 -22 -30 -38 -46 -54 -62]]\n"
          ]
        }
      ],
      "source": [
        "import numpy as np\n",
        "rows , cols =  10, 10\n",
        "d = np.zeros((rows, cols) , dtype = int)\n",
        "for i in range(rows):\n",
        "    for j in  range(cols):\n",
        "        d[i,j] = i+j+1-i*j\n",
        "print(\"matrix d: \")\n",
        "print(d)"
      ]
    },
    {
      "cell_type": "code",
      "execution_count": 22,
      "metadata": {},
      "outputs": [
        {
          "name": "stdout",
          "output_type": "stream",
          "text": [
            "maximum value in the matrix:  10\n"
          ]
        }
      ],
      "source": [
        "import numpy as np\n",
        "rows, cols = 10,10\n",
        "d = np.zeros((rows, cols) , dtype = int)\n",
        "for i in range(rows):\n",
        "        for j in  range(cols):\n",
        "           d[i,j] = i+j+1-i*j\n",
        "\n",
        "max_value = np.max(d)\n",
        "print(\"maximum value in the matrix: \",max_value)\n"
      ]
    },
    {
      "cell_type": "code",
      "execution_count": 23,
      "metadata": {},
      "outputs": [
        {
          "name": "stdout",
          "output_type": "stream",
          "text": [
            "array y:  [0.21765949 0.67631198 0.5368631  0.33441293 0.67053516]\n",
            "array z:  [0.31478887 0.72354306 0.97500457 0.39600813 0.68197503]\n"
          ]
        }
      ],
      "source": [
        "import numpy as np\n",
        "y =np.random.rand(5)\n",
        "z = np.random.rand(5)\n",
        "\n",
        "print(\"array y: \", y)\n",
        "print(\"array z: \" , z)"
      ]
    },
    {
      "cell_type": "code",
      "execution_count": 25,
      "metadata": {},
      "outputs": [
        {
          "name": "stdout",
          "output_type": "stream",
          "text": [
            "array x: [1 2 3 4 5]\n"
          ]
        }
      ],
      "source": [
        "import numpy as np\n",
        "y_size = len(y)\n",
        "x = np.arange(1,y_size +1)\n",
        "print(\"array x:\" , x)\n"
      ]
    },
    {
      "cell_type": "code",
      "execution_count": 34,
      "metadata": {},
      "outputs": [
        {
          "data": {
            "image/png": "[encoded data removed]",
            "text/plain": [
              "<Figure size 432x288 with 1 Axes>"
            ]
          },
          "metadata": {
            "needs_background": "light"
          },
          "output_type": "display_data"
        }
      ],
      "source": [
        "import numpy as np\n",
        "import matplotlib.pyplot as plt\n",
        "y_size = len(y)\n",
        "z_size = len(z)\n",
        "plt.plot(range(1,y_size+1), y, label ='y')\n",
        "plt.plot(range(1,z_size+1), z, label ='z')\n",
        "plt.xlabel('x-axis')\n",
        "plt.ylabel('y/z-axis')\n",
        "plt.legend()\n",
        "plt.show()\n",
        "\n"
      ]
    },
    {
      "cell_type": "markdown",
      "metadata": {
        "id": "xEyJqTQe4lc4"
      },
      "source": [
        "## pandas\n",
        "\n",
        "pandas is a python package that is useful for processing tabular data. Usually, if the format of the data is in a .csv, .xls, etc., then pandas is handy in processing.\n",
        "\n",
        "### TODO\n",
        "- Own a unique dataset to workwith from [Free Dataset](https://data.world/datasets/free). You may also choose any dataset from [INDIAN DATASETS](https://indiaai.gov.in/datasets), [US Govt data](https://data.gov/)\n",
        "- Download it in CSV file\n",
        "- Clean the dataset i.e., check for any N/A values or empty values and take appropriate action on the column. (Check how to clean dataset using pandas)\n",
        "- Process the data using padas library (use describe() routine to check the statistical significance of each feature in your dataset)\n",
        "- Use scatterplot (of pandas) to study how a pair of features are related\n",
        "- Create a new column from three existing columns. For example if x1,x2,x3 denote three already existing columns then create a new column x4 = 0.56* (x3)*2 + 0.3* (x2)**2 + 0.2 * (x1)"
      ]
    },
    {
      "cell_type": "code",
      "execution_count": 35,
      "metadata": {
        "id": "la82164-yb7f"
      },
      "outputs": [
        {
          "data": {
            "text/html": [
              "<div>\n",
              "<style scoped>\n",
              "    .dataframe tbody tr th:only-of-type {\n",
              "        vertical-align: middle;\n",
              "    }\n",
              "\n",
              "    .dataframe tbody tr th {\n",
              "        vertical-align: top;\n",
              "    }\n",
              "\n",
              "    .dataframe thead th {\n",
              "        text-align: right;\n",
              "    }\n",
              "</style>\n",
              "<table border=\"1\" class=\"dataframe\">\n",
              "  <thead>\n",
              "    <tr style=\"text-align: right;\">\n",
              "      <th></th>\n",
              "      <th>VIn</th>\n",
              "      <th>County</th>\n",
              "      <th>City</th>\n",
              "      <th>State</th>\n",
              "      <th>Postal Code</th>\n",
              "      <th>Model Year</th>\n",
              "      <th>Make</th>\n",
              "      <th>Model</th>\n",
              "      <th>Electric Vehicle Type</th>\n",
              "      <th>Clean Alternative Fuel Vehicle (CAFV) Eligibility</th>\n",
              "      <th>Electric Range</th>\n",
              "      <th>Base MSRP</th>\n",
              "      <th>Legislative District</th>\n",
              "      <th>DOL Vehicle ID</th>\n",
              "      <th>Vehicle Location</th>\n",
              "      <th>Electric Utility</th>\n",
              "      <th>2020 Census Tract</th>\n",
              "    </tr>\n",
              "  </thead>\n",
              "  <tbody>\n",
              "    <tr>\n",
              "      <th>0</th>\n",
              "      <td>5YJYGDEF5L</td>\n",
              "      <td>Thurston</td>\n",
              "      <td>Lacey</td>\n",
              "      <td>WA</td>\n",
              "      <td>98516.0</td>\n",
              "      <td>2020</td>\n",
              "      <td>TESLA</td>\n",
              "      <td>MODEL Y</td>\n",
              "      <td>Battery Electric Vehicle (BEV)</td>\n",
              "      <td>Clean Alternative Fuel Vehicle Eligible</td>\n",
              "      <td>291</td>\n",
              "      <td>0</td>\n",
              "      <td>22.0</td>\n",
              "      <td>124535071</td>\n",
              "      <td>POINT (-122.7474291 47.0821119)</td>\n",
              "      <td>PUGET SOUND ENERGY INC</td>\n",
              "      <td>5.306701e+10</td>\n",
              "    </tr>\n",
              "    <tr>\n",
              "      <th>1</th>\n",
              "      <td>1N4BZ1CP1K</td>\n",
              "      <td>King</td>\n",
              "      <td>Sammamish</td>\n",
              "      <td>WA</td>\n",
              "      <td>98074.0</td>\n",
              "      <td>2019</td>\n",
              "      <td>NISSAN</td>\n",
              "      <td>LEAF</td>\n",
              "      <td>Battery Electric Vehicle (BEV)</td>\n",
              "      <td>Clean Alternative Fuel Vehicle Eligible</td>\n",
              "      <td>150</td>\n",
              "      <td>0</td>\n",
              "      <td>45.0</td>\n",
              "      <td>102359449</td>\n",
              "      <td>POINT (-122.0313266 47.6285782)</td>\n",
              "      <td>PUGET SOUND ENERGY INC||CITY OF TACOMA - (WA)</td>\n",
              "      <td>5.303303e+10</td>\n",
              "    </tr>\n",
              "    <tr>\n",
              "      <th>2</th>\n",
              "      <td>5YJXCDE28G</td>\n",
              "      <td>King</td>\n",
              "      <td>Kent</td>\n",
              "      <td>WA</td>\n",
              "      <td>98031.0</td>\n",
              "      <td>2016</td>\n",
              "      <td>TESLA</td>\n",
              "      <td>MODEL X</td>\n",
              "      <td>Battery Electric Vehicle (BEV)</td>\n",
              "      <td>Clean Alternative Fuel Vehicle Eligible</td>\n",
              "      <td>200</td>\n",
              "      <td>0</td>\n",
              "      <td>33.0</td>\n",
              "      <td>228682037</td>\n",
              "      <td>POINT (-122.2012521 47.3931814)</td>\n",
              "      <td>PUGET SOUND ENERGY INC||CITY OF TACOMA - (WA)</td>\n",
              "      <td>5.303303e+10</td>\n",
              "    </tr>\n",
              "    <tr>\n",
              "      <th>3</th>\n",
              "      <td>JHMZC5F37M</td>\n",
              "      <td>Kitsap</td>\n",
              "      <td>Poulsbo</td>\n",
              "      <td>WA</td>\n",
              "      <td>98370.0</td>\n",
              "      <td>2021</td>\n",
              "      <td>HONDA</td>\n",
              "      <td>CLARITY</td>\n",
              "      <td>Plug-in Hybrid Electric Vehicle (PHEV)</td>\n",
              "      <td>Clean Alternative Fuel Vehicle Eligible</td>\n",
              "      <td>47</td>\n",
              "      <td>0</td>\n",
              "      <td>23.0</td>\n",
              "      <td>171566447</td>\n",
              "      <td>POINT (-122.64177 47.737525)</td>\n",
              "      <td>PUGET SOUND ENERGY INC</td>\n",
              "      <td>5.303509e+10</td>\n",
              "    </tr>\n",
              "    <tr>\n",
              "      <th>4</th>\n",
              "      <td>WA1F2AFY4P</td>\n",
              "      <td>Thurston</td>\n",
              "      <td>Olympia</td>\n",
              "      <td>WA</td>\n",
              "      <td>98501.0</td>\n",
              "      <td>2023</td>\n",
              "      <td>AUDI</td>\n",
              "      <td>Q5 E</td>\n",
              "      <td>Plug-in Hybrid Electric Vehicle (PHEV)</td>\n",
              "      <td>Not eligible due to low battery range</td>\n",
              "      <td>23</td>\n",
              "      <td>0</td>\n",
              "      <td>22.0</td>\n",
              "      <td>234923230</td>\n",
              "      <td>POINT (-122.89692 47.043535)</td>\n",
              "      <td>PUGET SOUND ENERGY INC</td>\n",
              "      <td>5.306701e+10</td>\n",
              "    </tr>\n",
              "  </tbody>\n",
              "</table>\n",
              "</div>"
            ],
            "text/plain": [
              "          VIn    County       City State  Postal Code  Model Year    Make  \\\n",
              "0  5YJYGDEF5L  Thurston      Lacey    WA      98516.0        2020   TESLA   \n",
              "1  1N4BZ1CP1K      King  Sammamish    WA      98074.0        2019  NISSAN   \n",
              "2  5YJXCDE28G      King       Kent    WA      98031.0        2016   TESLA   \n",
              "3  JHMZC5F37M    Kitsap    Poulsbo    WA      98370.0        2021   HONDA   \n",
              "4  WA1F2AFY4P  Thurston    Olympia    WA      98501.0        2023    AUDI   \n",
              "\n",
              "     Model                   Electric Vehicle Type  \\\n",
              "0  MODEL Y          Battery Electric Vehicle (BEV)   \n",
              "1     LEAF          Battery Electric Vehicle (BEV)   \n",
              "2  MODEL X          Battery Electric Vehicle (BEV)   \n",
              "3  CLARITY  Plug-in Hybrid Electric Vehicle (PHEV)   \n",
              "4     Q5 E  Plug-in Hybrid Electric Vehicle (PHEV)   \n",
              "\n",
              "  Clean Alternative Fuel Vehicle (CAFV) Eligibility  Electric Range  \\\n",
              "0           Clean Alternative Fuel Vehicle Eligible             291   \n",
              "1           Clean Alternative Fuel Vehicle Eligible             150   \n",
              "2           Clean Alternative Fuel Vehicle Eligible             200   \n",
              "3           Clean Alternative Fuel Vehicle Eligible              47   \n",
              "4             Not eligible due to low battery range              23   \n",
              "\n",
              "   Base MSRP  Legislative District  DOL Vehicle ID  \\\n",
              "0          0                  22.0       124535071   \n",
              "1          0                  45.0       102359449   \n",
              "2          0                  33.0       228682037   \n",
              "3          0                  23.0       171566447   \n",
              "4          0                  22.0       234923230   \n",
              "\n",
              "                  Vehicle Location  \\\n",
              "0  POINT (-122.7474291 47.0821119)   \n",
              "1  POINT (-122.0313266 47.6285782)   \n",
              "2  POINT (-122.2012521 47.3931814)   \n",
              "3     POINT (-122.64177 47.737525)   \n",
              "4     POINT (-122.89692 47.043535)   \n",
              "\n",
              "                                Electric Utility  2020 Census Tract  \n",
              "0                         PUGET SOUND ENERGY INC       5.306701e+10  \n",
              "1  PUGET SOUND ENERGY INC||CITY OF TACOMA - (WA)       5.303303e+10  \n",
              "2  PUGET SOUND ENERGY INC||CITY OF TACOMA - (WA)       5.303303e+10  \n",
              "3                         PUGET SOUND ENERGY INC       5.303509e+10  \n",
              "4                         PUGET SOUND ENERGY INC       5.306701e+10  "
            ]
          },
          "execution_count": 35,
          "metadata": {},
          "output_type": "execute_result"
        }
      ],
      "source": [
        "import pandas as pd\n",
        "column_names = ['VIn','County','City','State','Postal Code','Model Year','Make','Model','Electric Vehicle Type','Clean Alternative Fuel Vehicle (CAFV) Eligibility','Electric Range','Base MSRP','Legislative District','DOL Vehicle ID','Vehicle Location','Electric Utility','2020 Census Tract']\n",
        "vehicle_data= pd.read_csv('Electric_Vehicle_Population_Data.csv', names= column_names, header=0)\n",
        "vehicle_data.head()"
      ]
    },
    {
      "cell_type": "code",
      "execution_count": 36,
      "metadata": {},
      "outputs": [
        {
          "name": "stdout",
          "output_type": "stream",
          "text": [
            "<class 'pandas.core.frame.DataFrame'>\n",
            "RangeIndex: 163003 entries, 0 to 163002\n",
            "Data columns (total 17 columns):\n",
            " #   Column                                             Non-Null Count   Dtype  \n",
            "---  ------                                             --------------   -----  \n",
            " 0   VIn                                                163003 non-null  object \n",
            " 1   County                                             162999 non-null  object \n",
            " 2   City                                               162999 non-null  object \n",
            " 3   State                                              163003 non-null  object \n",
            " 4   Postal Code                                        162999 non-null  float64\n",
            " 5   Model Year                                         163003 non-null  int64  \n",
            " 6   Make                                               163003 non-null  object \n",
            " 7   Model                                              163003 non-null  object \n",
            " 8   Electric Vehicle Type                              163003 non-null  object \n",
            " 9   Clean Alternative Fuel Vehicle (CAFV) Eligibility  163003 non-null  object \n",
            " 10  Electric Range                                     163003 non-null  int64  \n",
            " 11  Base MSRP                                          163003 non-null  int64  \n",
            " 12  Legislative District                               162637 non-null  float64\n",
            " 13  DOL Vehicle ID                                     163003 non-null  int64  \n",
            " 14  Vehicle Location                                   162994 non-null  object \n",
            " 15  Electric Utility                                   162999 non-null  object \n",
            " 16  2020 Census Tract                                  162999 non-null  float64\n",
            "dtypes: float64(3), int64(4), object(10)\n",
            "memory usage: 21.1+ MB\n",
            "None\n",
            "         Postal Code     Model Year  Electric Range      Base MSRP  \\\n",
            "count  162999.000000  163003.000000   163003.000000  163003.000000   \n",
            "mean    98170.717422    2020.258449       63.382183    1198.344632   \n",
            "std      2467.998984       3.005057       94.323062    8825.505678   \n",
            "min      1730.000000    1997.000000        0.000000       0.000000   \n",
            "25%     98052.000000    2018.000000        0.000000       0.000000   \n",
            "50%     98122.000000    2021.000000       13.000000       0.000000   \n",
            "75%     98370.000000    2023.000000       84.000000       0.000000   \n",
            "max     99577.000000    2024.000000      337.000000  845000.000000   \n",
            "\n",
            "       Legislative District  DOL Vehicle ID  2020 Census Tract  \n",
            "count         162637.000000    1.630030e+05       1.629990e+05  \n",
            "mean              29.226861    2.153918e+08       5.297368e+10  \n",
            "std               14.841717    7.874180e+07       1.612977e+09  \n",
            "min                1.000000    4.385000e+03       1.081042e+09  \n",
            "25%               18.000000    1.762441e+08       5.303301e+10  \n",
            "50%               33.000000    2.209718e+08       5.303303e+10  \n",
            "75%               42.000000    2.495753e+08       5.305307e+10  \n",
            "max               49.000000    4.792548e+08       5.603300e+10  \n"
          ]
        }
      ],
      "source": [
        "print(vehicle_data.info())\n",
        "print(vehicle_data.describe())"
      ]
    },
    {
      "cell_type": "code",
      "execution_count": 37,
      "metadata": {},
      "outputs": [
        {
          "name": "stdout",
          "output_type": "stream",
          "text": [
            "MODEL Y             31640\n",
            "MODEL 3             28848\n",
            "LEAF                13264\n",
            "MODEL S              7670\n",
            "BOLT EV              6279\n",
            "                    ...  \n",
            "XM                      1\n",
            "HUMMER EV PICKUP        1\n",
            "S-10 PICKUP             1\n",
            "BENTAYGA                1\n",
            "MX-30                   1\n",
            "Name: Model, Length: 136, dtype: int64\n"
          ]
        }
      ],
      "source": [
        "print(vehicle_data['Model'].value_counts())"
      ]
    },
    {
      "cell_type": "code",
      "execution_count": 38,
      "metadata": {},
      "outputs": [],
      "source": [
        "vehicle_data.dropna(inplace=True)"
      ]
    },
    {
      "cell_type": "code",
      "execution_count": 39,
      "metadata": {},
      "outputs": [
        {
          "name": "stdout",
          "output_type": "stream",
          "text": [
            "Number of duplicate rows: 0\n"
          ]
        }
      ],
      "source": [
        "duplicate_rows = vehicle_data.duplicated()\n",
        "print(\"Number of duplicate rows:\", duplicate_rows.sum())"
      ]
    },
    {
      "cell_type": "code",
      "execution_count": 40,
      "metadata": {},
      "outputs": [],
      "source": [
        "vehicle_data.drop_duplicates(inplace=True)"
      ]
    },
    {
      "cell_type": "code",
      "execution_count": 2,
      "metadata": {},
      "outputs": [
        {
          "data": {
            "image/png": "[encoded data removed]",
            "text/plain": [
              "<Figure size 1000x600 with 1 Axes>"
            ]
          },
          "metadata": {},
          "output_type": "display_data"
        }
      ],
      "source": [
        "import pandas as pd\n",
        "\n",
        "# Assuming you have already defined column_names and loaded your data\n"
      ]
    },
    {
      "cell_type": "code",
      "execution_count": null,
      "metadata": {},
      "outputs": [],
      "source": [
        "column_names = ['VIn','County','City','State','Postal Code','Model Year','Make','Model','Electric Vehicle Type','Clean Alternative Fuel Vehicle (CAFV) Eligibility','Electric Range','Base MSRP','Legislative District','DOL Vehicle ID','Vehicle Location','Electric Utility','2020 Census Tract']\n",
        "vehicle_data = pd.read_csv('Electric_Vehicle_Population_Data.csv', names=column_names, header=0)\n",
        "\n",
        "import matplotlib.pyplot as plt\n",
        "\n",
        "# Scatter plot of 'Electric Range' vs 'Base MSRP'\n",
        "plt.figure(figsize=(10, 6))\n",
        "plt.scatter(vehicle_data['Electric Range'], vehicle_data['Base MSRP'], alpha=0.5)\n",
        "plt.title('Scatter Plot: Electric Range vs Base MSRP')\n",
        "plt.xlabel('Electric Range')\n",
        "plt.ylabel('Base MSRP')\n",
        "plt.grid(True)\n",
        "plt.show()\n"
      ]
    },
    {
      "cell_type": "code",
      "execution_count": 5,
      "metadata": {},
      "outputs": [
        {
          "name": "stdout",
          "output_type": "stream",
          "text": [
            "   VIN (1-10)    County       City State  Postal Code  Model Year    Make  \\\n",
            "0  5YJYGDEF5L  Thurston      Lacey    WA      98516.0        2020   TESLA   \n",
            "1  1N4BZ1CP1K      King  Sammamish    WA      98074.0        2019  NISSAN   \n",
            "2  5YJXCDE28G      King       Kent    WA      98031.0        2016   TESLA   \n",
            "3  JHMZC5F37M    Kitsap    Poulsbo    WA      98370.0        2021   HONDA   \n",
            "4  WA1F2AFY4P  Thurston    Olympia    WA      98501.0        2023    AUDI   \n",
            "\n",
            "     Model                   Electric Vehicle Type  \\\n",
            "0  MODEL Y          Battery Electric Vehicle (BEV)   \n",
            "1     LEAF          Battery Electric Vehicle (BEV)   \n",
            "2  MODEL X          Battery Electric Vehicle (BEV)   \n",
            "3  CLARITY  Plug-in Hybrid Electric Vehicle (PHEV)   \n",
            "4     Q5 E  Plug-in Hybrid Electric Vehicle (PHEV)   \n",
            "\n",
            "  Clean Alternative Fuel Vehicle (CAFV) Eligibility  Electric Range  \\\n",
            "0           Clean Alternative Fuel Vehicle Eligible             291   \n",
            "1           Clean Alternative Fuel Vehicle Eligible             150   \n",
            "2           Clean Alternative Fuel Vehicle Eligible             200   \n",
            "3           Clean Alternative Fuel Vehicle Eligible              47   \n",
            "4             Not eligible due to low battery range              23   \n",
            "\n",
            "   Base MSRP  Legislative District  DOL Vehicle ID  \\\n",
            "0          0                  22.0       124535071   \n",
            "1          0                  45.0       102359449   \n",
            "2          0                  33.0       228682037   \n",
            "3          0                  23.0       171566447   \n",
            "4          0                  22.0       234923230   \n",
            "\n",
            "                  Vehicle Location  \\\n",
            "0  POINT (-122.7474291 47.0821119)   \n",
            "1  POINT (-122.0313266 47.6285782)   \n",
            "2  POINT (-122.2012521 47.3931814)   \n",
            "3     POINT (-122.64177 47.737525)   \n",
            "4     POINT (-122.89692 47.043535)   \n",
            "\n",
            "                                Electric Utility  2020 Census Tract        x4  \n",
            "0                         PUGET SOUND ENERGY INC       5.306701e+10  47425.76  \n",
            "1  PUGET SOUND ENERGY INC||CITY OF TACOMA - (WA)       5.303303e+10  12609.00  \n",
            "2  PUGET SOUND ENERGY INC||CITY OF TACOMA - (WA)       5.303303e+10  22406.60  \n",
            "3                         PUGET SOUND ENERGY INC       5.303509e+10   1241.64  \n",
            "4                         PUGET SOUND ENERGY INC       5.306701e+10    300.64  \n"
          ]
        }
      ],
      "source": [
        "import pandas as pd\n",
        "\n",
        "\n",
        "df = pd.read_csv('Electric_Vehicle_Population_Data.csv')\n",
        "\n",
        "df['x4'] = 0.56 * (df['Electric Range'])**2 + 0.3 * (df['Base MSRP'])**2 + 0.2 * (df['Legislative District'])\n",
        "\n",
        "print(df.head())\n"
      ]
    },
    {
      "cell_type": "markdown",
      "metadata": {
        "id": "PsCUbseo4pfF"
      },
      "source": [
        "## SCIKIT-LEARN\n",
        "\n",
        "### TODO\n",
        "- In the above dataset that you have taken, If one of your columns has non-numerical value but it is categorical (Gender, birthplace, etc,.) Use scikit-learn to encode using numerical values.\n",
        "- Explore various scaling techniques available in scikit-learn, Atleast try two of the scalers with your dataset\n",
        "- Check what is \"Polynomial features\" in scikit-learn and try it with your dataset."
      ]
    },
    {
      "cell_type": "code",
      "execution_count": 8,
      "metadata": {
        "id": "EqfSKITg4skp"
      },
      "outputs": [
        {
          "name": "stdout",
          "output_type": "stream",
          "text": [
            "Non-numerical categorical columns: Index(['VIN (1-10)', 'County', 'City', 'State', 'Make', 'Model',\n",
            "       'Electric Vehicle Type',\n",
            "       'Clean Alternative Fuel Vehicle (CAFV) Eligibility', 'Vehicle Location',\n",
            "       'Electric Utility'],\n",
            "      dtype='object')\n"
          ]
        }
      ],
      "source": [
        "import pandas as pd\n",
        "\n",
        "non_numerical_categorical_columns = df.select_dtypes(include=['object']).columns\n",
        "\n",
        "print(\"Non-numerical categorical columns:\", non_numerical_categorical_columns)\n"
      ]
    },
    {
      "cell_type": "code",
      "execution_count": 9,
      "metadata": {},
      "outputs": [
        {
          "name": "stdout",
          "output_type": "stream",
          "text": [
            "   VIN (1-10)  County  City  State  Postal Code  Model Year  Make  Model  \\\n",
            "0        4145     167   302     43      98516.0        2020    33     80   \n",
            "1        1574      79   536     43      98074.0        2019    27     75   \n",
            "2        4030      79   291     43      98031.0        2016    33     79   \n",
            "3        4724      81   485     43      98370.0        2021    14     25   \n",
            "4        7167     167   435     43      98501.0        2023     1     96   \n",
            "\n",
            "   Electric Vehicle Type  Clean Alternative Fuel Vehicle (CAFV) Eligibility  \\\n",
            "0                      0                                                  0   \n",
            "1                      0                                                  0   \n",
            "2                      0                                                  0   \n",
            "3                      1                                                  0   \n",
            "4                      1                                                  2   \n",
            "\n",
            "   Electric Range  Base MSRP  Legislative District  DOL Vehicle ID  \\\n",
            "0             291          0                  22.0       124535071   \n",
            "1             150          0                  45.0       102359449   \n",
            "2             200          0                  33.0       228682037   \n",
            "3              47          0                  23.0       171566447   \n",
            "4              23          0                  22.0       234923230   \n",
            "\n",
            "   Vehicle Location  Electric Utility  2020 Census Tract        x4  \n",
            "0               563                72       5.306701e+10  47425.76  \n",
            "1               325                73       5.303303e+10  12609.00  \n",
            "2               364                73       5.303303e+10  22406.60  \n",
            "3               532                72       5.303509e+10   1241.64  \n",
            "4               585                72       5.306701e+10    300.64  \n"
          ]
        }
      ],
      "source": [
        "import pandas as pd\n",
        "from sklearn.preprocessing import LabelEncoder\n",
        "\n",
        "categorical_columns = ['VIN (1-10)', 'County', 'City', 'State', 'Make', 'Model',\n",
        "                         'Electric Vehicle Type',\n",
        "                         'Clean Alternative Fuel Vehicle (CAFV) Eligibility',\n",
        "                         'Vehicle Location',\n",
        "                         'Electric Utility']\n",
        "\n",
        "df_categorical = df[categorical_columns]\n",
        "label_encoder = LabelEncoder()\n",
        "\n",
        "for column in df_categorical.columns:\n",
        "    df[column] = label_encoder.fit_transform(df[column])\n",
        "print(df.head())\n"
      ]
    },
    {
      "cell_type": "code",
      "execution_count": 10,
      "metadata": {},
      "outputs": [
        {
          "name": "stdout",
          "output_type": "stream",
          "text": [
            "   Postal Code  Model Year  Electric Range  Base MSRP  Legislative District  \\\n",
            "0     0.989157    0.851852        0.863501        0.0              0.437500   \n",
            "1     0.984639    0.814815        0.445104        0.0              0.916667   \n",
            "2     0.984200    0.703704        0.593472        0.0              0.666667   \n",
            "3     0.987664    0.888889        0.139466        0.0              0.458333   \n",
            "4     0.989003    0.962963        0.068249        0.0              0.437500   \n",
            "\n",
            "   DOL Vehicle ID  2020 Census Tract            x4  Postal Code  Model Year  \\\n",
            "0        0.259845           0.946026  2.214001e-07     0.139904   -0.086005   \n",
            "1        0.213573           0.945407  5.886255e-08    -0.039189   -0.418778   \n",
            "2        0.477157           0.945407  1.046014e-07    -0.056612   -1.417099   \n",
            "3        0.357980           0.945445  5.795502e-09     0.080747    0.246768   \n",
            "4        0.490180           0.946026  1.402565e-09     0.133826    0.912315   \n",
            "\n",
            "   ...  VIN (1-10)  County  City  State  Make  Model  Electric Vehicle Type  \\\n",
            "0  ...        4145     167   302     43    33     80                      0   \n",
            "1  ...        1574      79   536     43    27     75                      0   \n",
            "2  ...        4030      79   291     43    33     79                      0   \n",
            "3  ...        4724      81   485     43    14     25                      1   \n",
            "4  ...        7167     167   435     43     1     96                      1   \n",
            "\n",
            "   Clean Alternative Fuel Vehicle (CAFV) Eligibility  Vehicle Location  \\\n",
            "0                                                  0               563   \n",
            "1                                                  0               325   \n",
            "2                                                  0               364   \n",
            "3                                                  0               532   \n",
            "4                                                  2               585   \n",
            "\n",
            "   Electric Utility  \n",
            "0                72  \n",
            "1                73  \n",
            "2                73  \n",
            "3                72  \n",
            "4                72  \n",
            "\n",
            "[5 rows x 26 columns]\n"
          ]
        }
      ],
      "source": [
        "import pandas as pd\n",
        "from sklearn.preprocessing import MinMaxScaler, StandardScaler\n",
        "numerical_columns = df.select_dtypes(include=['float64', 'int64']).columns\n",
        "df_numerical = df[numerical_columns]\n",
        "min_max_scaler = MinMaxScaler()\n"
      ]
    },
    {
      "cell_type": "code",
      "execution_count": 13,
      "metadata": {},
      "outputs": [
        {
          "name": "stdout",
          "output_type": "stream",
          "text": [
            "   Postal Code  Model Year  Electric Range  Base MSRP  Legislative District  \\\n",
            "0     0.989157    0.851852        0.863501        0.0              0.437500   \n",
            "1     0.984639    0.814815        0.445104        0.0              0.916667   \n",
            "2     0.984200    0.703704        0.593472        0.0              0.666667   \n",
            "3     0.987664    0.888889        0.139466        0.0              0.458333   \n",
            "4     0.989003    0.962963        0.068249        0.0              0.437500   \n",
            "\n",
            "   DOL Vehicle ID  2020 Census Tract            x4  Postal Code  Model Year  \\\n",
            "0        0.259845           0.946026  2.214001e-07     0.139904   -0.086005   \n",
            "1        0.213573           0.945407  5.886255e-08    -0.039189   -0.418778   \n",
            "2        0.477157           0.945407  1.046014e-07    -0.056612   -1.417099   \n",
            "3        0.357980           0.945445  5.795502e-09     0.080747    0.246768   \n",
            "4        0.490180           0.946026  1.402565e-09     0.133826    0.912315   \n",
            "\n",
            "   ...  VIN (1-10)  County  City  State  Make  Model  Electric Vehicle Type  \\\n",
            "0  ...        4145     167   302     43    33     80                      0   \n",
            "1  ...        1574      79   536     43    27     75                      0   \n",
            "2  ...        4030      79   291     43    33     79                      0   \n",
            "3  ...        4724      81   485     43    14     25                      1   \n",
            "4  ...        7167     167   435     43     1     96                      1   \n",
            "\n",
            "   Clean Alternative Fuel Vehicle (CAFV) Eligibility  Vehicle Location  \\\n",
            "0                                                  0               563   \n",
            "1                                                  0               325   \n",
            "2                                                  0               364   \n",
            "3                                                  0               532   \n",
            "4                                                  2               585   \n",
            "\n",
            "   Electric Utility  \n",
            "0                72  \n",
            "1                73  \n",
            "2                73  \n",
            "3                72  \n",
            "4                72  \n",
            "\n",
            "[5 rows x 26 columns]\n"
          ]
        }
      ],
      "source": [
        "standard_scaler = StandardScaler()\n",
        "df_numerical_minmax = pd.DataFrame(min_max_scaler.fit_transform(df_numerical), columns=numerical_columns)\n",
        "df_numerical_standard = pd.DataFrame(standard_scaler.fit_transform(df_numerical), columns=numerical_columns)\n",
        "df_scaled = pd.concat([df_numerical_minmax, df_numerical_standard, df[categorical_columns]], axis=1)\n",
        "print(df_scaled.head())\n"
      ]
    },
    {
      "cell_type": "code",
      "execution_count": 18,
      "metadata": {},
      "outputs": [
        {
          "name": "stderr",
          "output_type": "stream",
          "text": [
            "C:\\Users\\Deepthi\\AppData\\Local\\Temp\\ipykernel_6184\\3243916778.py:11: SettingWithCopyWarning: \n",
            "A value is trying to be set on a copy of a slice from a DataFrame\n",
            "\n",
            "See the caveats in the documentation: https://pandas.pydata.org/pandas-docs/stable/user_guide/indexing.html#returning-a-view-versus-a-copy\n",
            "  df_numerical.fillna(0, inplace=True)\n"
          ]
        },
        {
          "name": "stdout",
          "output_type": "stream",
          "text": [
            "     1  Postal Code  Model Year  Electric Range  Base MSRP  \\\n",
            "0  1.0      98516.0      2020.0           291.0        0.0   \n",
            "1  1.0      98074.0      2019.0           150.0        0.0   \n",
            "2  1.0      98031.0      2016.0           200.0        0.0   \n",
            "3  1.0      98370.0      2021.0            47.0        0.0   \n",
            "4  1.0      98501.0      2023.0            23.0        0.0   \n",
            "\n",
            "   Legislative District  DOL Vehicle ID  2020 Census Tract        x4  \\\n",
            "0                  22.0     124535071.0       5.306701e+10  47425.76   \n",
            "1                  45.0     102359449.0       5.303303e+10  12609.00   \n",
            "2                  33.0     228682037.0       5.303303e+10  22406.60   \n",
            "3                  23.0     171566447.0       5.303509e+10   1241.64   \n",
            "4                  22.0     234923230.0       5.306701e+10    300.64   \n",
            "\n",
            "   Postal Code^2  ...  VIN (1-10)  County  City  State  Make  Model  \\\n",
            "0   9.705402e+09  ...        4145     167   302     43    33     80   \n",
            "1   9.618509e+09  ...        1574      79   536     43    27     75   \n",
            "2   9.610077e+09  ...        4030      79   291     43    33     79   \n",
            "3   9.676657e+09  ...        4724      81   485     43    14     25   \n",
            "4   9.702447e+09  ...        7167     167   435     43     1     96   \n",
            "\n",
            "   Electric Vehicle Type  Clean Alternative Fuel Vehicle (CAFV) Eligibility  \\\n",
            "0                      0                                                  0   \n",
            "1                      0                                                  0   \n",
            "2                      0                                                  0   \n",
            "3                      1                                                  0   \n",
            "4                      1                                                  2   \n",
            "\n",
            "   Vehicle Location  Electric Utility  \n",
            "0               563                72  \n",
            "1               325                73  \n",
            "2               364                73  \n",
            "3               532                72  \n",
            "4               585                72  \n",
            "\n",
            "[5 rows x 55 columns]\n"
          ]
        }
      ],
      "source": [
        "import pandas as pd\n",
        "from sklearn.preprocessing import PolynomialFeatures\n",
        "numerical_columns = df.select_dtypes(include=['float64', 'int64']).columns\n",
        "df_numerical = df[numerical_columns]\n",
        "df_numerical.fillna(0, inplace=True)\n",
        "degree = 2 \n",
        "poly = PolynomialFeatures(degree=degree)\n",
        "df_poly_features = pd.DataFrame(poly.fit_transform(df_numerical), columns=poly.get_feature_names_out(numerical_columns))\n",
        "df_poly = pd.concat([df_poly_features, df[categorical_columns]], axis=1)\n",
        "print(df_poly.head())\n"
      ]
    }
  ],
  "metadata": {
    "colab": {
      "private_outputs": true,
      "provenance": []
    },
    "kernelspec": {
      "display_name": "Python 3",
      "name": "python3"
    },
    "language_info": {
      "codemirror_mode": {
        "name": "ipython",
        "version": 3
      },
      "file_extension": ".py",
      "mimetype": "text/x-python",
      "name": "python",
      "nbconvert_exporter": "python",
      "pygments_lexer": "ipython3",
      "version": "3.8.10"
    }
  },
  "nbformat": 4,
  "nbformat_minor": 0
}
