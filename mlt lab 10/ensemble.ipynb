{
 "cells": [
  {
   "cell_type": "code",
   "execution_count": 1,
   "metadata": {},
   "outputs": [],
   "source": [
    "from sklearn.ensemble import AdaBoostRegressor, VotingRegressor\n",
    "from sklearn.linear_model import LinearRegression\n",
    "from sklearn.tree import DecisionTreeRegressor\n",
    "from sklearn.model_selection import train_test_split\n",
    "from sklearn.metrics import mean_squared_error\n",
    "\n",
    "import numpy as np \n",
    "import matplotlib.pyplot as mlt\n",
    "import pandas as pd\n",
    "from sklearn.model_selection import train_test_split\n",
    "\n",
    "from sklearn import datasets\n",
    "\n",
    "\n",
    "\n",
    "iris = datasets.load_iris()\n",
    "iris_df = pd.DataFrame(data=iris.data, columns=iris.feature_names)\n",
    "iris_target=iris.target\n",
    "X = iris_df.drop(columns =['sepal length (cm)','petal length (cm)','sepal width (cm)'])\n",
    "Y = iris_target"
   ]
  },
  {
   "cell_type": "code",
   "execution_count": 2,
   "metadata": {},
   "outputs": [],
   "source": [
    "# Create base estimators\n",
    "X_train, X_val, y_train, y_val = train_test_split(X, Y, test_size= 0.3, random_state=2 )\n",
    "base_estimators = [\n",
    "    ('linear', LinearRegression()),  # Linear regression as a base estimator\n",
    "    ('tree', DecisionTreeRegressor())  # Decision tree as a base estimator\n",
    "]\n"
   ]
  },
  {
   "cell_type": "code",
   "execution_count": 3,
   "metadata": {},
   "outputs": [
    {
     "name": "stdout",
     "output_type": "stream",
     "text": [
      "AdaBoost RMSE: 0.21081851067789195\n"
     ]
    },
    {
     "name": "stderr",
     "output_type": "stream",
     "text": [
      "c:\\Users\\Deepthi\\AppData\\Local\\Programs\\Python\\Python38\\lib\\site-packages\\sklearn\\ensemble\\_base.py:156: FutureWarning: `base_estimator` was renamed to `estimator` in version 1.2 and will be removed in 1.4.\n",
      "  warnings.warn(\n"
     ]
    }
   ],
   "source": [
    "# AdaBoostRegressor\n",
    "adaboost = AdaBoostRegressor(base_estimator=DecisionTreeRegressor(), n_estimators=50, random_state=42)\n",
    "adaboost.fit(X_train, y_train)\n",
    "adaboost_preds = adaboost.predict(X_val)\n",
    "adaboost_rmse = mean_squared_error(y_val, adaboost_preds, squared=False)\n",
    "print(\"AdaBoost RMSE:\", adaboost_rmse)"
   ]
  },
  {
   "cell_type": "code",
   "execution_count": 4,
   "metadata": {},
   "outputs": [
    {
     "name": "stdout",
     "output_type": "stream",
     "text": [
      "Voting Regressor RMSE: 0.2050352019590114\n"
     ]
    }
   ],
   "source": [
    "\n",
    "# VotingRegressor\n",
    "voting_regressor = VotingRegressor(estimators=base_estimators)\n",
    "voting_regressor.fit(X_train, y_train)\n",
    "voting_preds = voting_regressor.predict(X_val)\n",
    "voting_rmse = mean_squared_error(y_val, voting_preds, squared=False)\n",
    "print(\"Voting Regressor RMSE:\", voting_rmse)\n"
   ]
  }
 ],
 "metadata": {
  "kernelspec": {
   "display_name": "Python 3",
   "language": "python",
   "name": "python3"
  },
  "language_info": {
   "codemirror_mode": {
    "name": "ipython",
    "version": 3
   },
   "file_extension": ".py",
   "mimetype": "text/x-python",
   "name": "python",
   "nbconvert_exporter": "python",
   "pygments_lexer": "ipython3",
   "version": "3.8.10"
  }
 },
 "nbformat": 4,
 "nbformat_minor": 2
}
