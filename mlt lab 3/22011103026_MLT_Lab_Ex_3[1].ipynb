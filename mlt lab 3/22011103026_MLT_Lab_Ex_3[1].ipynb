{
 "cells": [
  {
   "cell_type": "markdown",
   "metadata": {},
   "source": [
    "# Name: Deepthi I\n",
    "# Registration No.: 22011103010\n"
   ]
  },
  {
   "cell_type": "markdown",
   "metadata": {},
   "source": [
    "# Objectives\n",
    "\n",
    "- Use scikit-learn\n",
    "- Use real_estate.csv\n",
    "- Perform linear regression and predict price based on the features\n",
    "\n",
    "- Using combinations of data try multiple regression"
   ]
  },
  {
   "cell_type": "code",
   "execution_count": 1,
   "metadata": {},
   "outputs": [],
   "source": [
    "import numpy as np\n",
    "import pandas as pd\n",
    "from sklearn.linear_model import LinearRegression \n",
    "from sklearn.preprocessing import MinMaxScaler, StandardScaler, LabelEncoder\n",
    "from sklearn.model_selection import train_test_split\n",
    "from sklearn.metrics import mean_squared_error, r2_score\n",
    "import matplotlib.pyplot as plt"
   ]
  },
  {
   "cell_type": "code",
   "execution_count": 2,
   "metadata": {},
   "outputs": [],
   "source": [
    "df = pd.read_csv('real_estate.csv')\n",
    "\n",
    "df['UniqueNum'] = [_ for _ in range(len(df))]\n",
    "df = df.drop(\"Address\", axis = 1)"
   ]
  },
  {
   "cell_type": "markdown",
   "metadata": {},
   "source": [
    "Cleaning the dataset"
   ]
  },
  {
   "cell_type": "code",
   "execution_count": 3,
   "metadata": {},
   "outputs": [],
   "source": [
    "def assign_year_category(year) -> int:\n",
    "    if year < 1800:\n",
    "        return 8\n",
    "    elif 1800 <= year < 1850:\n",
    "        return 7\n",
    "    elif 1850 <= year < 1900:\n",
    "        return 6\n",
    "    elif 1900 <= year < 1920:\n",
    "        return 5\n",
    "    elif 1920 <= year < 1950:\n",
    "        return 4\n",
    "    elif 1950 <= year < 1980:\n",
    "        return 3\n",
    "    elif 1980 <= year < 2000:\n",
    "        return 2\n",
    "    elif 2000 <= year < 2023:\n",
    "        return 1\n",
    "    else:\n",
    "        return 0\n",
    "    \n",
    "df['YearBuilt2'] = df['YearBuilt'].apply(assign_year_category)\n",
    "df = df.drop('YearBuilt', axis = 1)\n",
    "\n",
    "scaler = MinMaxScaler()\n",
    "df[['price_norm', 'land_size_norm']] = scaler.fit_transform(df[['Price', 'Landsize']])\n",
    "\n",
    "scaler = StandardScaler()\n",
    "df[['price_norm', 'land_size_norm']] = scaler.fit_transform(df[['Price', 'Landsize']])"
   ]
  },
  {
   "cell_type": "code",
   "execution_count": 4,
   "metadata": {},
   "outputs": [
    {
     "name": "stdout",
     "output_type": "stream",
     "text": [
      "[[1.82528638e+11 1.27646467e+11 1.80679311e+11 ... 1.44137412e+11\n",
      "  3.08163751e+11 1.58321244e+11]\n",
      " [1.27646467e+11 8.92661044e+10 1.26353190e+11 ... 1.00798600e+11\n",
      "  2.15505984e+11 1.10717679e+11]\n",
      " [1.80679311e+11 1.26353190e+11 1.78848722e+11 ... 1.42677061e+11\n",
      "  3.05041532e+11 1.56717187e+11]\n",
      " ...\n",
      " [1.44137412e+11 1.00798600e+11 1.42677061e+11 ... 1.13836122e+11\n",
      "  2.43362800e+11 1.25036680e+11]\n",
      " [3.08163751e+11 2.15505984e+11 3.05041532e+11 ... 2.43362800e+11\n",
      "  5.20289036e+11 2.67309421e+11]\n",
      " [1.58321244e+11 1.10717679e+11 1.56717187e+11 ... 1.25036680e+11\n",
      "  2.67309421e+11 1.37339427e+11]]\n",
      "       Rooms    Price  Bedroom2  Bathroom  Landsize  YearBuilt2  price_norm  \\\n",
      "0          2  1480000         2         1       202           0    0.632448   \n",
      "1          2  1035000         2         1       156           5   -0.063640   \n",
      "2          3  1465000         3         2       134           5    0.608984   \n",
      "3          3   850000         3         2        94           0   -0.353025   \n",
      "4          4  1600000         3         1       120           1    0.820157   \n",
      "...      ...      ...       ...       ...       ...         ...         ...   \n",
      "13575      4  1245000         4         2       652           2    0.264851   \n",
      "13576      3  1031000         3         2       333           2   -0.069897   \n",
      "13577      3  1170000         3         2       436           2    0.147533   \n",
      "13578      4  2500000         4         1       866           4    2.227975   \n",
      "13579      4  1285000         4         1       362           4    0.327421   \n",
      "\n",
      "       land_size_norm  EncodedUniqueNum  EncodedRegionname  EncodedSuburb  \\\n",
      "0           -0.089316                 0                  2              0   \n",
      "1           -0.100843                 1                  2              0   \n",
      "2           -0.106356                 2                  2              0   \n",
      "3           -0.116380                 3                  2              0   \n",
      "4           -0.109864                 4                  2              0   \n",
      "...               ...               ...                ...            ...   \n",
      "13575        0.023452             13575                  4            302   \n",
      "13576       -0.056488             13576                  6            305   \n",
      "13577       -0.030677             13577                  6            305   \n",
      "13578        0.077079             13578                  6            305   \n",
      "13579       -0.049221             13579                  6            313   \n",
      "\n",
      "       EncodedType  \n",
      "0                0  \n",
      "1                0  \n",
      "2                0  \n",
      "3                0  \n",
      "4                0  \n",
      "...            ...  \n",
      "13575            0  \n",
      "13576            0  \n",
      "13577            0  \n",
      "13578            0  \n",
      "13579            0  \n",
      "\n",
      "[13580 rows x 12 columns]\n"
     ]
    }
   ],
   "source": [
    "l_encoder = LabelEncoder()\n",
    "df['EncodedUniqueNum'] = l_encoder.fit_transform(df['UniqueNum'])\n",
    "df['EncodedRegionname'] = l_encoder.fit_transform(df['Regionname'])\n",
    "df['EncodedSuburb'] = l_encoder.fit_transform(df['Suburb'])\n",
    "df['EncodedType'] = l_encoder.fit_transform(df['Type'])\n",
    "df = df.drop('UniqueNum', axis = 1)\n",
    "df = df.drop('Regionname', axis = 1)\n",
    "df = df.drop('Suburb', axis = 1)\n",
    "df = df.drop('Type', axis = 1)\n",
    "df = df.dropna()\n",
    "\n",
    "features = df.to_numpy()\n",
    "covar = np.cov(features)\n",
    "print(covar)\n",
    "\n",
    "print(df)"
   ]
  },
  {
   "cell_type": "markdown",
   "metadata": {},
   "source": [
    "## Simple linear regression\n",
    "\n",
    "- Trying to predict the landsize of the house based on its price"
   ]
  },
  {
   "cell_type": "code",
   "execution_count": 5,
   "metadata": {},
   "outputs": [
    {
     "name": "stdout",
     "output_type": "stream",
     "text": [
      "[[1480000]\n",
      " [1035000]\n",
      " [1465000]\n",
      " ...\n",
      " [1170000]\n",
      " [2500000]\n",
      " [1285000]]\n",
      "[202 156 134 ... 436 866 362]\n"
     ]
    },
    {
     "data": {
      "text/html": [
       "<style>#sk-container-id-1 {color: black;}#sk-container-id-1 pre{padding: 0;}#sk-container-id-1 div.sk-toggleable {background-color: white;}#sk-container-id-1 label.sk-toggleable__label {cursor: pointer;display: block;width: 100%;margin-bottom: 0;padding: 0.3em;box-sizing: border-box;text-align: center;}#sk-container-id-1 label.sk-toggleable__label-arrow:before {content: \"▸\";float: left;margin-right: 0.25em;color: #696969;}#sk-container-id-1 label.sk-toggleable__label-arrow:hover:before {color: black;}#sk-container-id-1 div.sk-estimator:hover label.sk-toggleable__label-arrow:before {color: black;}#sk-container-id-1 div.sk-toggleable__content {max-height: 0;max-width: 0;overflow: hidden;text-align: left;background-color: #f0f8ff;}#sk-container-id-1 div.sk-toggleable__content pre {margin: 0.2em;color: black;border-radius: 0.25em;background-color: #f0f8ff;}#sk-container-id-1 input.sk-toggleable__control:checked~div.sk-toggleable__content {max-height: 200px;max-width: 100%;overflow: auto;}#sk-container-id-1 input.sk-toggleable__control:checked~label.sk-toggleable__label-arrow:before {content: \"▾\";}#sk-container-id-1 div.sk-estimator input.sk-toggleable__control:checked~label.sk-toggleable__label {background-color: #d4ebff;}#sk-container-id-1 div.sk-label input.sk-toggleable__control:checked~label.sk-toggleable__label {background-color: #d4ebff;}#sk-container-id-1 input.sk-hidden--visually {border: 0;clip: rect(1px 1px 1px 1px);clip: rect(1px, 1px, 1px, 1px);height: 1px;margin: -1px;overflow: hidden;padding: 0;position: absolute;width: 1px;}#sk-container-id-1 div.sk-estimator {font-family: monospace;background-color: #f0f8ff;border: 1px dotted black;border-radius: 0.25em;box-sizing: border-box;margin-bottom: 0.5em;}#sk-container-id-1 div.sk-estimator:hover {background-color: #d4ebff;}#sk-container-id-1 div.sk-parallel-item::after {content: \"\";width: 100%;border-bottom: 1px solid gray;flex-grow: 1;}#sk-container-id-1 div.sk-label:hover label.sk-toggleable__label {background-color: #d4ebff;}#sk-container-id-1 div.sk-serial::before {content: \"\";position: absolute;border-left: 1px solid gray;box-sizing: border-box;top: 0;bottom: 0;left: 50%;z-index: 0;}#sk-container-id-1 div.sk-serial {display: flex;flex-direction: column;align-items: center;background-color: white;padding-right: 0.2em;padding-left: 0.2em;position: relative;}#sk-container-id-1 div.sk-item {position: relative;z-index: 1;}#sk-container-id-1 div.sk-parallel {display: flex;align-items: stretch;justify-content: center;background-color: white;position: relative;}#sk-container-id-1 div.sk-item::before, #sk-container-id-1 div.sk-parallel-item::before {content: \"\";position: absolute;border-left: 1px solid gray;box-sizing: border-box;top: 0;bottom: 0;left: 50%;z-index: -1;}#sk-container-id-1 div.sk-parallel-item {display: flex;flex-direction: column;z-index: 1;position: relative;background-color: white;}#sk-container-id-1 div.sk-parallel-item:first-child::after {align-self: flex-end;width: 50%;}#sk-container-id-1 div.sk-parallel-item:last-child::after {align-self: flex-start;width: 50%;}#sk-container-id-1 div.sk-parallel-item:only-child::after {width: 0;}#sk-container-id-1 div.sk-dashed-wrapped {border: 1px dashed gray;margin: 0 0.4em 0.5em 0.4em;box-sizing: border-box;padding-bottom: 0.4em;background-color: white;}#sk-container-id-1 div.sk-label label {font-family: monospace;font-weight: bold;display: inline-block;line-height: 1.2em;}#sk-container-id-1 div.sk-label-container {text-align: center;}#sk-container-id-1 div.sk-container {/* jupyter's `normalize.less` sets `[hidden] { display: none; }` but bootstrap.min.css set `[hidden] { display: none !important; }` so we also need the `!important` here to be able to override the default hidden behavior on the sphinx rendered scikit-learn.org. See: https://github.com/scikit-learn/scikit-learn/issues/21755 */display: inline-block !important;position: relative;}#sk-container-id-1 div.sk-text-repr-fallback {display: none;}</style><div id=\"sk-container-id-1\" class=\"sk-top-container\"><div class=\"sk-text-repr-fallback\"><pre>LinearRegression()</pre><b>In a Jupyter environment, please rerun this cell to show the HTML representation or trust the notebook. <br />On GitHub, the HTML representation is unable to render, please try loading this page with nbviewer.org.</b></div><div class=\"sk-container\" hidden><div class=\"sk-item\"><div class=\"sk-estimator sk-toggleable\"><input class=\"sk-toggleable__control sk-hidden--visually\" id=\"sk-estimator-id-1\" type=\"checkbox\" checked><label for=\"sk-estimator-id-1\" class=\"sk-toggleable__label sk-toggleable__label-arrow\">LinearRegression</label><div class=\"sk-toggleable__content\"><pre>LinearRegression()</pre></div></div></div></div></div>"
      ],
      "text/plain": [
       "LinearRegression()"
      ]
     },
     "execution_count": 5,
     "metadata": {},
     "output_type": "execute_result"
    }
   ],
   "source": [
    "X = np.array(df[\"Price\"]).reshape(-1, 1) # can also use price_norm to use the normalized values\n",
    "print(X)\n",
    "y = np.array(df[\"Landsize\"]) # can also use land_size_norm to use the normalized values\n",
    "print(y)\n",
    "\n",
    "model = LinearRegression()\n",
    "model.fit(X, y)"
   ]
  },
  {
   "cell_type": "code",
   "execution_count": 6,
   "metadata": {},
   "outputs": [
    {
     "name": "stdout",
     "output_type": "stream",
     "text": [
      "Prediction of new price for X_new = [[2000000]] is [774.82333246]\n"
     ]
    }
   ],
   "source": [
    "X_new = np.array([2000000]).reshape(-1, 1)\n",
    "y_pred = model.predict(X_new)\n",
    "print(\"Prediction of new price for X_new = {} is {}\".format(X_new, y_pred))"
   ]
  },
  {
   "cell_type": "code",
   "execution_count": 7,
   "metadata": {},
   "outputs": [
    {
     "data": {
      "image/png": "[encoded data removed]",
      "text/plain": [
       "<Figure size 640x480 with 1 Axes>"
      ]
     },
     "metadata": {},
     "output_type": "display_data"
    }
   ],
   "source": [
    "plt.scatter(X, y, color = \"blue\")\n",
    "plt.plot(X, model.predict(X), color = \"red\")\n",
    "plt.xlabel(\"x\")\n",
    "plt.ylabel(\"y\")\n",
    "plt.show()"
   ]
  },
  {
   "cell_type": "markdown",
   "metadata": {},
   "source": [
    "## Multiple linear regression\n",
    "\n",
    "- Trying to predict landsize of the house using price and the number of bedrooms it has."
   ]
  },
  {
   "cell_type": "code",
   "execution_count": 8,
   "metadata": {},
   "outputs": [
    {
     "name": "stdout",
     "output_type": "stream",
     "text": [
      "[596.38488847 426.31253231 529.11591957 ... 526.71946255 414.75067828\n",
      " 639.06663477]\n"
     ]
    }
   ],
   "source": [
    "X = np.array(df.loc[:, ['price_norm', 'Bedroom2']].values) # can also use price_norm to use the normalized values\n",
    "y = np.array(df[\"Landsize\"]) # can also use land_size_norm to use the normalized values\n",
    "\n",
    "X_train, X_test, y_train, y_test = train_test_split(X, y, test_size = 0.3, random_state = 42)\n",
    "model = LinearRegression()\n",
    "model.fit(X_train, y_train)\n",
    "\n",
    "y_pred = model.predict(X_test)\n",
    "\n",
    "print(y_pred)"
   ]
  },
  {
   "cell_type": "markdown",
   "metadata": {},
   "source": [
    "- Calculating the mean squared error and R2 score"
   ]
  },
  {
   "cell_type": "code",
   "execution_count": 9,
   "metadata": {},
   "outputs": [
    {
     "name": "stdout",
     "output_type": "stream",
     "text": [
      "Mean squared error = 48548904.28521491\n",
      "R2 score = 0.0003085798410912277\n"
     ]
    }
   ],
   "source": [
    "mse = mean_squared_error(y_test, y_pred)\n",
    "r2 = r2_score(y_test, y_pred)\n",
    "\n",
    "print(\"Mean squared error =\", mse)\n",
    "print(\"R2 score =\", r2)"
   ]
  }
 ],
 "metadata": {
  "kernelspec": {
   "display_name": "base",
   "language": "python",
   "name": "python3"
  },
  "language_info": {
   "codemirror_mode": {
    "name": "ipython",
    "version": 3
   },
   "file_extension": ".py",
   "mimetype": "text/x-python",
   "name": "python",
   "nbconvert_exporter": "python",
   "pygments_lexer": "ipython3",
   "version": "3.8.10"
  }
 },
 "nbformat": 4,
 "nbformat_minor": 2
}
